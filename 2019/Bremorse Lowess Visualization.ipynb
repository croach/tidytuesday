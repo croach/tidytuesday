{
 "cells": [
  {
   "cell_type": "markdown",
   "metadata": {},
   "source": [
    "# Better Dava Visualization Using Lowess \n",
    "\n",
    "[This article][bremorse] from the Economist suggests that a smooth curve is a better way of showing noisy polling data over time than a strict display of the actual values. The code for this notebook was cribbed from a [Github Gist][downey] posted by Allen Downey. The actual and revised versions of the visualization are shown below. \n",
    "\n",
    "![](images/economist_lowess.png)\n",
    "\n",
    "[bremorse]: https://medium.economist.com/mistakes-weve-drawn-a-few-8cdd8a42d368\n",
    "[downey]: https://gist.github.com/AllenDowney/818f6153ef316aee80467c51faee80f8"
   ]
  },
  {
   "cell_type": "code",
   "execution_count": null,
   "metadata": {},
   "outputs": [],
   "source": [
    "%matplotlib inline\n",
    "%config InlineBackend.figure_formats = ['retina']\n",
    "\n",
    "import matplotlib.pyplot as plt\n",
    "import numpy as np\n",
    "import pandas as pd\n",
    "from statsmodels.nonparametric.smoothers_lowess import lowess"
   ]
  },
  {
   "cell_type": "code",
   "execution_count": null,
   "metadata": {},
   "outputs": [],
   "source": [
    "df = pd.read_csv(\"http://infographics.economist.com/databank/Economist_brexit.csv\", \n",
    "                 header=3,\n",
    "                 parse_dates=[0]) \\\n",
    "       .set_index('Date')"
   ]
  },
  {
   "cell_type": "code",
   "execution_count": null,
   "metadata": {},
   "outputs": [],
   "source": [
    "df.head()"
   ]
  },
  {
   "cell_type": "code",
   "execution_count": null,
   "metadata": {},
   "outputs": [],
   "source": [
    "def make_lowess(series):\n",
    "    endog = series.values\n",
    "    exog = series.index.values\n",
    "\n",
    "    smooth = lowess(endog, exog)\n",
    "    index, data = np.transpose(smooth)\n",
    "    \n",
    "    return pd.Series(data, index=pd.to_datetime(index))"
   ]
  },
  {
   "cell_type": "code",
   "execution_count": null,
   "metadata": {},
   "outputs": [],
   "source": [
    "right = make_lowess(df['% responding right'])\n",
    "wrong = make_lowess(df['% responding wrong'])"
   ]
  },
  {
   "cell_type": "code",
   "execution_count": null,
   "metadata": {},
   "outputs": [],
   "source": [
    "options = {'marker': 'o', 'linewidth':0, 'alpha':0.3, 'label':''}\n",
    "df['% responding right'].plot(color='C0', **options)\n",
    "df['% responding wrong'].plot(color='C1', **options)\n",
    "right.plot(label='Right')\n",
    "wrong.plot(label='Wrong')\n",
    "plt.legend();"
   ]
  }
 ],
 "metadata": {
  "kernelspec": {
   "display_name": "Python 3",
   "language": "python",
   "name": "python3"
  },
  "language_info": {
   "codemirror_mode": {
    "name": "ipython",
    "version": 3
   },
   "file_extension": ".py",
   "mimetype": "text/x-python",
   "name": "python",
   "nbconvert_exporter": "python",
   "pygments_lexer": "ipython3",
   "version": "3.7.3"
  }
 },
 "nbformat": 4,
 "nbformat_minor": 2
}
