{
 "cells": [
  {
   "cell_type": "markdown",
   "metadata": {},
   "source": [
    "# [Seattle Pet Names][1]\n",
    "\n",
    "Seattle's open data portal has a dataset of registered pets [here](https://data.seattle.gov/Community/Seattle-Pet-Licenses/jguv-t9rb). While they don't include the sex or age of the animal, they were kind enough to leave in the license issue date, animal's name, species, breed, and zip code. This should open up some fun explorations!\n",
    "\n",
    "h/t to [Jacqueline Nolis](https://twitter.com/skyetetra/status/1093737135847309312) for sharing this data!\n",
    "\n",
    "A few articles examined the most popular pet names in 2018, one from [Seattle](https://seattle.curbed.com/2019/1/2/18165658/seattle-popular-pet-names-2018) specifically, and another from [Australia](https://www.countryliving.com/uk/wildlife/pets/a25302522/2018s-popular-pet-names-bella-luna-max/). \n",
    "\n",
    "[1]: https://github.com/rfordatascience/tidytuesday/tree/master/data/2019/2019-03-26\n",
    "\n",
    "## Data Dictionary\n",
    "\n",
    "|variable           |class     |description |\n",
    "|:------------------|:---------|:-----------|\n",
    "|license_issue_date | date | Date the animal was registered with Seattle           |\n",
    "|license_number     | numeric | Unique license number          |\n",
    "|animals_name       |character | Animal's name          |\n",
    "|species            |character | Animal's species (dog, cat, goat, etc)           |\n",
    "|primary_breed      |character | Primary breed of the animal          |\n",
    "|secondary_breed    |character | Secondary breed if mixed          |\n",
    "|zip_code           | numeric | Zip code animal registered under           |"
   ]
  },
  {
   "cell_type": "markdown",
   "metadata": {},
   "source": [
    "## Setup"
   ]
  },
  {
   "cell_type": "code",
   "execution_count": null,
   "metadata": {},
   "outputs": [],
   "source": [
    "%matplotlib inline\n",
    "\n",
    "import matplotlib as mpl\n",
    "import matplotlib.pyplot as plt\n",
    "import numpy as np\n",
    "import pandas as pd\n",
    "import seaborn as sns\n",
    "\n",
    "sns.set()\n",
    "\n",
    "%config InlineBackend.figure_formats = ['retina']"
   ]
  },
  {
   "cell_type": "markdown",
   "metadata": {},
   "source": [
    "## Get the data!"
   ]
  },
  {
   "cell_type": "code",
   "execution_count": null,
   "metadata": {},
   "outputs": [],
   "source": [
    "url = \"https://raw.githubusercontent.com/rfordatascience/tidytuesday/master/data/2019/2019-03-26/seattle_pets.csv\"\n",
    "seattle_pets = pd.read_csv(\n",
    "    url, \n",
    "    parse_dates=['license_issue_date'],\n",
    "    dtype = {'species': 'category'})"
   ]
  },
  {
   "cell_type": "markdown",
   "metadata": {},
   "source": [
    "### Data types, shape, etc."
   ]
  },
  {
   "cell_type": "code",
   "execution_count": null,
   "metadata": {},
   "outputs": [],
   "source": [
    "seattle_pets.info(True)"
   ]
  },
  {
   "cell_type": "markdown",
   "metadata": {},
   "source": [
    "There are 52,519 observations in total, and we have a handful of NAs in the `animals_name` and `zip_code` fields and about half of the `secondary_breed` entries are NA."
   ]
  },
  {
   "cell_type": "code",
   "execution_count": null,
   "metadata": {},
   "outputs": [],
   "source": [
    "seattle_pets.describe()"
   ]
  },
  {
   "cell_type": "markdown",
   "metadata": {},
   "source": [
    "Looks like only 4 different species in total (which is why we parsed it as a categorical). Let's see what the breakdown is between the species."
   ]
  },
  {
   "cell_type": "code",
   "execution_count": null,
   "metadata": {},
   "outputs": [],
   "source": [
    "seattle_pets['species'].value_counts(normalize=True)"
   ]
  },
  {
   "cell_type": "markdown",
   "metadata": {},
   "source": [
    "Roughly two-thirds of all pets registered were dogs and one-third cats, and just a handful of goats and pigs (weird). Now, let's take a look at the breed breakdown."
   ]
  },
  {
   "cell_type": "code",
   "execution_count": null,
   "metadata": {},
   "outputs": [],
   "source": [
    "seattle_pets['primary_breed'].value_counts()[:15]"
   ]
  },
  {
   "cell_type": "markdown",
   "metadata": {},
   "source": [
    "And, the "
   ]
  },
  {
   "cell_type": "code",
   "execution_count": null,
   "metadata": {},
   "outputs": [],
   "source": [
    "seattle_pets['license_issue_date'].hist(bins=30);"
   ]
  },
  {
   "cell_type": "code",
   "execution_count": null,
   "metadata": {},
   "outputs": [],
   "source": [
    "seattle_pets['license_issue_date'].dt.year.value_counts().sort_index(ascending=False)"
   ]
  },
  {
   "cell_type": "code",
   "execution_count": null,
   "metadata": {},
   "outputs": [],
   "source": [
    "from matplotlib.ticker import StrMethodFormatter\n",
    "\n",
    "ax = seattle_pets.loc[seattle_pets['species'].isin(['Cat', 'Dog']), 'primary_breed'] \\\n",
    "    .value_counts(normalize=True)[:10] \\\n",
    "    .sort_values(ascending=True) \\\n",
    "    .plot(kind='barh') \\\n",
    "    .xaxis.set_major_formatter(StrMethodFormatter('{x:.1%}'));"
   ]
  },
  {
   "cell_type": "code",
   "execution_count": null,
   "metadata": {},
   "outputs": [],
   "source": [
    "seattle_pets[seattle_pets['species'].isin(['Cat', 'Dog'])] \\\n",
    "    .groupby(['species', 'primary_breed']) \\\n",
    "    .size() \\\n",
    "    .reset_index(name='count') \\\n",
    "    .groupby('species') \\\n",
    "    .sort_values()\n",
    "    .nlargest(3)"
   ]
  },
  {
   "cell_type": "code",
   "execution_count": null,
   "metadata": {},
   "outputs": [],
   "source": [
    "df = seattle_pets[seattle_pets['species'].isin(['Cat', 'Dog'])] \\\n",
    "    .groupby(['species', 'primary_breed']) \\\n",
    "    .size() \\\n",
    "    .reset_index(name='count')\n",
    "df"
   ]
  },
  {
   "cell_type": "code",
   "execution_count": null,
   "metadata": {},
   "outputs": [],
   "source": [
    "df"
   ]
  },
  {
   "cell_type": "code",
   "execution_count": null,
   "metadata": {},
   "outputs": [],
   "source": [
    "g = sns.FacetGrid(df, col='species')"
   ]
  },
  {
   "cell_type": "code",
   "execution_count": null,
   "metadata": {},
   "outputs": [],
   "source": [
    "g = sns.FacetGrid(df, col='species')\n",
    "def func(*args, **kwargs):\n",
    "    print(args)\n",
    "    print(kwargs)\n",
    "    #plt.scatter(*args, **kwargs)\n",
    "g.map(func);"
   ]
  },
  {
   "cell_type": "code",
   "execution_count": null,
   "metadata": {},
   "outputs": [],
   "source": []
  }
 ],
 "metadata": {
  "kernelspec": {
   "display_name": "Python 3",
   "language": "python",
   "name": "python3"
  },
  "language_info": {
   "codemirror_mode": {
    "name": "ipython",
    "version": 3
   },
   "file_extension": ".py",
   "mimetype": "text/x-python",
   "name": "python",
   "nbconvert_exporter": "python",
   "pygments_lexer": "ipython3",
   "version": "3.7.3"
  }
 },
 "nbformat": 4,
 "nbformat_minor": 2
}
